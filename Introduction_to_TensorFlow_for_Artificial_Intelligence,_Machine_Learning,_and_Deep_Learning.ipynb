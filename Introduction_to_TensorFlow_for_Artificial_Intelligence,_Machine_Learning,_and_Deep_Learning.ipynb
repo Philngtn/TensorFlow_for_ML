{
  "nbformat": 4,
  "nbformat_minor": 0,
  "metadata": {
    "colab": {
      "name": "Introduction to TensorFlow for Artificial Intelligence, Machine Learning, and Deep Learning.ipynb",
      "provenance": [],
      "collapsed_sections": [],
      "authorship_tag": "ABX9TyM38US7el3+eI/3msMHBU95",
      "include_colab_link": true
    },
    "kernelspec": {
      "name": "python3",
      "display_name": "Python 3"
    },
    "language_info": {
      "name": "python"
    }
  },
  "cells": [
    {
      "cell_type": "markdown",
      "metadata": {
        "id": "view-in-github",
        "colab_type": "text"
      },
      "source": [
        "<a href=\"https://colab.research.google.com/github/Philngtn/TensorFlow_for_ML/blob/main/Introduction_to_TensorFlow_for_Artificial_Intelligence%2C_Machine_Learning%2C_and_Deep_Learning.ipynb\" target=\"_parent\"><img src=\"https://colab.research.google.com/assets/colab-badge.svg\" alt=\"Open In Colab\"/></a>"
      ]
    },
    {
      "cell_type": "markdown",
      "metadata": {
        "id": "xRrRNR-BlIJD"
      },
      "source": [
        "# **The Hello World of Deep Learning with Neural Networks**\n",
        "\n",
        "In this example we will try to create a neural network which is searching the mathematical rule of two of numbers. If it is written in programming, it would be produce the result as the function below \n",
        "\n",
        "```\n",
        "def hw_function(x):\n",
        "    y = float((2 * x) - 1)\n",
        "    return y\n",
        "```\n"
      ]
    },
    {
      "cell_type": "markdown",
      "metadata": {
        "id": "l7o0vbSbkedo"
      },
      "source": [
        "# **Imports**  \n",
        "We add several libraries to use in the code, which include tensorflow, numpy, and keras."
      ]
    },
    {
      "cell_type": "code",
      "metadata": {
        "id": "F4v8nGk8QIuV"
      },
      "source": [
        "# Week 1\n",
        "import tensorflow as tf\n",
        "import numpy as np\n",
        "from tensorflow import keras"
      ],
      "execution_count": 1,
      "outputs": []
    },
    {
      "cell_type": "markdown",
      "metadata": {
        "id": "RqJqjrwnmeqE"
      },
      "source": [
        "# **Define and Compile the Neural Network**\n",
        "\n",
        "We are going to create the simplest neural network. It has 1 layer, and that layer comprise 1 neuron and the input shape to it is just 1 value.\n",
        "\n",
        "Dense : To define a layer of connected neuron\n"
      ]
    },
    {
      "cell_type": "code",
      "metadata": {
        "id": "wJlglrNYhXx2"
      },
      "source": [
        "model = tf.keras.Sequential([keras.layers.Dense(units=1, input_shape=[1])])"
      ],
      "execution_count": 2,
      "outputs": []
    },
    {
      "cell_type": "markdown",
      "metadata": {
        "id": "g_nIHX0VqJmd"
      },
      "source": [
        "# **Choosing optimizer method and loss function**\n",
        "\n",
        "In this example we choose SGD (STOCHASTIC GRADIENT DESCENT) as our optimizer method and MEAN SQUARED ERROR as the loss function\n"
      ]
    },
    {
      "cell_type": "code",
      "metadata": {
        "id": "jaEnLiYnqxuT"
      },
      "source": [
        "model.compile(optimizer='sgd', loss='mean_squared_error')"
      ],
      "execution_count": 3,
      "outputs": []
    },
    {
      "cell_type": "markdown",
      "metadata": {
        "id": "591N_xQ9qzzQ"
      },
      "source": [
        "# **Adding the data**\n",
        "\n",
        "We are gonna feed in the model some data for trainning. "
      ]
    },
    {
      "cell_type": "code",
      "metadata": {
        "id": "rFtWDCmrq9JI"
      },
      "source": [
        "xs = np.array([-1.0,  0.0, 1.0, 2.0, 3.0, 4.0], dtype=float)\n",
        "ys = np.array([-3.0, -1.0, 1.0, 3.0, 5.0, 7.0], dtype=float)"
      ],
      "execution_count": 4,
      "outputs": []
    },
    {
      "cell_type": "markdown",
      "metadata": {
        "id": "kGPaYUaUrJNN"
      },
      "source": [
        "# **Training the Neural Network**\n",
        "\n",
        "We use method \"fit\" to process the training phase of network. This would take the number of provided epoch to stop the trainning process.\n"
      ]
    },
    {
      "cell_type": "code",
      "metadata": {
        "id": "zctrdZxsrwdy"
      },
      "source": [
        "model.fit(xs, ys, epochs=500)"
      ],
      "execution_count": null,
      "outputs": []
    },
    {
      "cell_type": "markdown",
      "metadata": {
        "id": "08Lr6yMBr00A"
      },
      "source": [
        "Predict the value out of the trainning set, we use the method predit."
      ]
    },
    {
      "cell_type": "code",
      "metadata": {
        "colab": {
          "base_uri": "https://localhost:8080/"
        },
        "id": "QnuE8N2qry55",
        "outputId": "dedf029c-2f27-48c3-d175-6547e96986b4"
      },
      "source": [
        "print(model.predict([10.0]))"
      ],
      "execution_count": 6,
      "outputs": [
        {
          "output_type": "stream",
          "text": [
            "[[18.979307]]\n"
          ],
          "name": "stdout"
        }
      ]
    }
  ]
}