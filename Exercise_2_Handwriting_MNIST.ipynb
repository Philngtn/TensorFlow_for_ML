{
  "nbformat": 4,
  "nbformat_minor": 0,
  "metadata": {
    "colab": {
      "name": "Exercise 2 - Handwriting MNIST.ipynb",
      "provenance": [],
      "collapsed_sections": [],
      "authorship_tag": "ABX9TyNjkXpCF/Blp4f4P+oRSc+H",
      "include_colab_link": true
    },
    "kernelspec": {
      "name": "python3",
      "display_name": "Python 3"
    },
    "language_info": {
      "name": "python"
    }
  },
  "cells": [
    {
      "cell_type": "markdown",
      "metadata": {
        "id": "view-in-github",
        "colab_type": "text"
      },
      "source": [
        "<a href=\"https://colab.research.google.com/github/Philngtn/TensorFlow_for_ML/blob/main/Exercise_2_Handwriting_MNIST.ipynb\" target=\"_parent\"><img src=\"https://colab.research.google.com/assets/colab-badge.svg\" alt=\"Open In Colab\"/></a>"
      ]
    },
    {
      "cell_type": "markdown",
      "metadata": {
        "id": "XMnRo7DVhUw1"
      },
      "source": [
        "## Exercise 2\n",
        "In the course you learned how to do classification using Fashion MNIST, a data set containing items of clothing. There's another, similar dataset called MNIST which has items of handwriting -- the digits 0 through 9.\n",
        "\n",
        "Write an MNIST classifier that trains to 99% accuracy or above, and does it without a fixed number of epochs -- i.e. you should stop training once you reach that level of accuracy.\n",
        "\n",
        "Some notes:\n",
        "1. It should succeed in less than 10 epochs, so it is okay to change epochs to 10, but nothing larger\n",
        "2. When it reaches 99% or greater it should print out the string \"Reached 99% accuracy so cancelling training!\"\n",
        "3. If you add any additional variables, make sure you use the same names as the ones used in the class\n",
        "\n",
        "I've started the code for you below -- how would you finish it? "
      ]
    },
    {
      "cell_type": "code",
      "metadata": {
        "colab": {
          "base_uri": "https://localhost:8080/"
        },
        "id": "dqAd1l9qhUlf",
        "outputId": "0054f663-22d9-45d2-b4e7-b02891729fc0"
      },
      "source": [
        "# YOUR CODE SHOULD START HERE\n",
        "# YOUR CODE SHOULD END HERE\n",
        "import tensorflow as tf\n",
        "from tensorflow import  keras\n",
        "\n",
        "\n",
        "mnist = tf.keras.datasets.mnist\n",
        "\n",
        "(x_train, y_train),(x_test, y_test) = mnist.load_data()\n",
        "\n",
        "# YOUR CODE SHOULD START HERE\n",
        "\n",
        "class myCallback(tf.keras.callbacks.Callback):\n",
        "  def on_epoch_end(self, epoch, logs={}):\n",
        "    accuracy = 0.99\n",
        "    if(logs.get('accuracy') is not None and logs.get('accuracy') > accuracy):\n",
        "      print(\"\\nReached \" + str(accuracy*100) + \"% accuracy so cancelling training!\")\n",
        "      self.model.stop_training = True\n",
        "\n",
        "callbacks = myCallback()\n",
        "\n",
        "# YOUR CODE SHOULD END HERE\n",
        "\n",
        "model = tf.keras.models.Sequential([\n",
        "# YOUR CODE SHOULD START HERE\n",
        "        tf.keras.layers.Flatten(),\n",
        "        tf.keras.layers.Dense(512, activation=tf.nn.relu),\n",
        "        tf.keras.layers.Dense(1024, activation=tf.nn.relu),\n",
        "        tf.keras.layers.Dense(512, activation=tf.nn.relu),\n",
        "        tf.keras.layers.Dense(10, activation=tf.nn.softmax)\n",
        "# YOUR CODE SHOULD END HERE\n",
        "])\n",
        "\n",
        "model.compile(optimizer='adam',\n",
        "              loss='sparse_categorical_crossentropy',\n",
        "              metrics=['accuracy'])\n",
        "\n",
        "# YOUR CODE SHOULD START HERE\n",
        "\n",
        "model.fit(x_train, y_train, batch_size=2000, epochs=10 , callbacks=[callbacks])\n",
        "\n",
        "# YOUR CODE SHOULD END HERE"
      ],
      "execution_count": null,
      "outputs": [
        {
          "output_type": "stream",
          "text": [
            "Epoch 1/10\n",
            "30/30 [==============================] - 10s 303ms/step - loss: 40.4722 - accuracy: 0.5066\n",
            "Epoch 2/10\n",
            "30/30 [==============================] - 9s 306ms/step - loss: 0.5503 - accuracy: 0.8927\n",
            "Epoch 3/10\n",
            "30/30 [==============================] - 9s 306ms/step - loss: 0.2620 - accuracy: 0.9299\n",
            "Epoch 4/10\n",
            "30/30 [==============================] - 9s 304ms/step - loss: 0.1725 - accuracy: 0.9510\n",
            "Epoch 5/10\n",
            "30/30 [==============================] - 9s 306ms/step - loss: 0.1160 - accuracy: 0.9668\n",
            "Epoch 6/10\n",
            "30/30 [==============================] - 9s 305ms/step - loss: 0.0822 - accuracy: 0.9772\n",
            "Epoch 7/10\n",
            "30/30 [==============================] - 9s 304ms/step - loss: 0.0561 - accuracy: 0.9852\n",
            "Epoch 8/10\n",
            "30/30 [==============================] - 9s 304ms/step - loss: 0.0396 - accuracy: 0.9902\n",
            "\n",
            "Reached 99.0% accuracy so cancelling training!\n"
          ],
          "name": "stdout"
        },
        {
          "output_type": "execute_result",
          "data": {
            "text/plain": [
              "<tensorflow.python.keras.callbacks.History at 0x7fe0f3ec6c10>"
            ]
          },
          "metadata": {
            "tags": []
          },
          "execution_count": 20
        }
      ]
    }
  ]
}