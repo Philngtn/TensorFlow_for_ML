{
  "nbformat": 4,
  "nbformat_minor": 0,
  "metadata": {
    "colab": {
      "name": "Week3.ipynb",
      "provenance": [],
      "collapsed_sections": [],
      "authorship_tag": "ABX9TyORVyG1rHyPmmXlTg4ZAmd2",
      "include_colab_link": true
    },
    "kernelspec": {
      "name": "python3",
      "display_name": "Python 3"
    },
    "language_info": {
      "name": "python"
    }
  },
  "cells": [
    {
      "cell_type": "markdown",
      "metadata": {
        "id": "view-in-github",
        "colab_type": "text"
      },
      "source": [
        "<a href=\"https://colab.research.google.com/github/Philngtn/TensorFlow_for_ML/blob/main/Week3.ipynb\" target=\"_parent\"><img src=\"https://colab.research.google.com/assets/colab-badge.svg\" alt=\"Open In Colab\"/></a>"
      ]
    },
    {
      "cell_type": "code",
      "metadata": {
        "id": "S-Eh2VVlZVjV"
      },
      "source": [
        "import tensorflow as tf\n",
        "from tensorflow import  keras\n",
        "\n",
        "mnist = tf.keras.datasets.fashion_mnist\n",
        "(x_train, y_train),(x_test, y_test) = mnist.load_data()"
      ],
      "execution_count": null,
      "outputs": []
    },
    {
      "cell_type": "markdown",
      "metadata": {
        "id": "6GlNLMBnuZwr"
      },
      "source": [
        "## What is the filter of Conv2D? \n",
        "\n",
        "By default, the filters W are initialised randomly using the glorot_uniform method, which draws values from a uniform distribution with positive and negative bounds described as so:"
      ]
    },
    {
      "cell_type": "code",
      "metadata": {
        "id": "FS9CmX9CFuzG",
        "colab": {
          "base_uri": "https://localhost:8080/"
        },
        "outputId": "d009ceaf-96a6-4dfc-89b1-2c35b6cf8639"
      },
      "source": [
        "class myCallback(tf.keras.callbacks.Callback):\n",
        "  def on_epoch_end(self, epoch, logs={}):\n",
        "    accuracy = 0.99\n",
        "    if(logs.get('accuracy') is not None and logs.get('accuracy') > accuracy):\n",
        "      print(\"\\nReached \" + str(accuracy*100) + \"% accuracy so cancelling training!\")\n",
        "      self.model.stop_training = True\n",
        "\n",
        "callbacks = myCallback()\n",
        "\n",
        "x_train = x_train.reshape(60000, 28, 28, 1)\n",
        "x_train = x_train/255.0\n",
        "x_test = x_test.reshape(10000, 28, 28, 1)\n",
        "x_test = x_test/255.0\n",
        "\n",
        "\n",
        "\n",
        "model = tf.keras.models.Sequential([                                    \n",
        "        tf.keras.layers.Conv2D(64, (3,3), activation='relu', input_shape = (28,28,1)),\n",
        "        tf.keras.layers.MaxPooling2D(2,2),\n",
        "        tf.keras.layers.Conv2D(64, (3,3) , activation='relu'),\n",
        "        tf.keras.layers.MaxPooling2D(2,2),\n",
        "        tf.keras.layers.Flatten(),\n",
        "        tf.keras.layers.Dense(128, activation='relu'),\n",
        "        tf.keras.layers.Dense(10, activation='softmax'),\n",
        "])\n",
        "\n",
        "model.compile(optimizer='adam',\n",
        "              loss='sparse_categorical_crossentropy',\n",
        "              metrics=['accuracy'])\n",
        "\n",
        "model.fit(x_train, y_train, epochs=10 , callbacks=[callbacks])\n",
        "\n",
        "model.summary()\n",
        "test_loss = model.evaluate(x_test, y_test)\n"
      ],
      "execution_count": 14,
      "outputs": [
        {
          "output_type": "stream",
          "text": [
            "Epoch 1/10\n",
            "1875/1875 [==============================] - 96s 51ms/step - loss: 0.6029 - accuracy: 0.7794\n",
            "Epoch 2/10\n",
            "1875/1875 [==============================] - 93s 50ms/step - loss: 0.3041 - accuracy: 0.8877\n",
            "Epoch 3/10\n",
            "1875/1875 [==============================] - 94s 50ms/step - loss: 0.2570 - accuracy: 0.9046\n",
            "Epoch 4/10\n",
            "1875/1875 [==============================] - 93s 49ms/step - loss: 0.2196 - accuracy: 0.9187\n",
            "Epoch 5/10\n",
            "1875/1875 [==============================] - 95s 51ms/step - loss: 0.1931 - accuracy: 0.9266\n",
            "Epoch 6/10\n",
            "1875/1875 [==============================] - 95s 51ms/step - loss: 0.1718 - accuracy: 0.9346\n",
            "Epoch 7/10\n",
            "1875/1875 [==============================] - 96s 51ms/step - loss: 0.1440 - accuracy: 0.9464\n",
            "Epoch 8/10\n",
            "1875/1875 [==============================] - 93s 50ms/step - loss: 0.1289 - accuracy: 0.9508\n",
            "Epoch 9/10\n",
            "1875/1875 [==============================] - 92s 49ms/step - loss: 0.1098 - accuracy: 0.9585\n",
            "Epoch 10/10\n",
            "1875/1875 [==============================] - 94s 50ms/step - loss: 0.1000 - accuracy: 0.9629\n",
            "Model: \"sequential_9\"\n",
            "_________________________________________________________________\n",
            "Layer (type)                 Output Shape              Param #   \n",
            "=================================================================\n",
            "conv2d_18 (Conv2D)           (None, 26, 26, 64)        640       \n",
            "_________________________________________________________________\n",
            "max_pooling2d_18 (MaxPooling (None, 13, 13, 64)        0         \n",
            "_________________________________________________________________\n",
            "conv2d_19 (Conv2D)           (None, 11, 11, 64)        36928     \n",
            "_________________________________________________________________\n",
            "max_pooling2d_19 (MaxPooling (None, 5, 5, 64)          0         \n",
            "_________________________________________________________________\n",
            "flatten_9 (Flatten)          (None, 1600)              0         \n",
            "_________________________________________________________________\n",
            "dense_18 (Dense)             (None, 128)               204928    \n",
            "_________________________________________________________________\n",
            "dense_19 (Dense)             (None, 10)                1290      \n",
            "=================================================================\n",
            "Total params: 243,786\n",
            "Trainable params: 243,786\n",
            "Non-trainable params: 0\n",
            "_________________________________________________________________\n",
            "313/313 [==============================] - 5s 14ms/step - loss: 0.3004 - accuracy: 0.9162\n"
          ],
          "name": "stdout"
        }
      ]
    }
  ]
}